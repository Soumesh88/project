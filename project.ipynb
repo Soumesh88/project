{
 "cells": [
  {
   "cell_type": "code",
   "execution_count": 8,
   "id": "fb521002-bd57-4b1e-ae56-81019fc628de",
   "metadata": {},
   "outputs": [
    {
     "name": "stdout",
     "output_type": "stream",
     "text": [
      "                    diseases                                                                                                                                                                                                  symptoms\n",
      "0  abdominal aortic aneurysm                                                                                                  arm swelling, back pain, burning abdominal pain, palpitations, sharp abdominal pain, shortness of breath\n",
      "1           abdominal hernia  ache all over, groin mass, irregular belly button, lower abdominal pain, regurgitation, regurgitation.1, sharp abdominal pain, swollen abdomen, symptoms of the scrotum and testes, upper abdominal pain\n",
      "2            abscess of nose                                                                                                         coryza, cough, fever, irritable infant, nasal congestion, sinus congestion, sore throat, vomiting\n",
      "3        abscess of the lung                                                                                                                                cough, depressive or psychotic symptoms, itchy eyelid, shortness of breath\n",
      "4     abscess of the pharynx                                                                                        cough, difficulty in swallowing, fever, headache, nasal congestion, sharp chest pain, sore throat, throat swelling\n"
     ]
    }
   ],
   "source": [
    "import pandas as pd\n",
    "\n",
    "# Load dataset\n",
    "df = pd.read_csv(\"Final_Augmented_dataset_Diseases_and_Symptoms.csv\")\n",
    "\n",
    "# Convert binary symptom columns into a list of symptom names\n",
    "df[\"symptom_text\"] = df.drop(columns=[\"diseases\"]).apply(\n",
    "    lambda x: [col for col in x.index if x[col] == 1], axis=1\n",
    ")\n",
    "\n",
    "# Merge symptoms for each unique disease while ensuring no duplicates\n",
    "df_grouped = df.groupby(\"diseases\")[\"symptom_text\"].apply(\n",
    "    lambda x: list(set(sum(x, [])))  # Flatten list and remove duplicates\n",
    ").reset_index()\n",
    "\n",
    "# Convert list back to comma-separated string\n",
    "df_grouped[\"symptoms\"] = df_grouped[\"symptom_text\"].apply(lambda x: \", \".join(sorted(x)))\n",
    "\n",
    "# Drop intermediate column\n",
    "df_grouped = df_grouped.drop(columns=[\"symptom_text\"])\n",
    "\n",
    "# Save the processed dataset\n",
    "df_grouped.to_csv(\"processed_symptom_disease.csv\", index=False)\n",
    "\n",
    "print(df_grouped.head())  # Preview the new format"
   ]
  },
  {
   "cell_type": "code",
   "execution_count": 1,
   "id": "d94c8f41-58c2-429d-a3e0-57c705882bdc",
   "metadata": {},
   "outputs": [
    {
     "name": "stderr",
     "output_type": "stream",
     "text": [
      "D:\\Work\\project\\project\\Lib\\site-packages\\tqdm\\auto.py:21: TqdmWarning: IProgress not found. Please update jupyter and ipywidgets. See https://ipywidgets.readthedocs.io/en/stable/user_install.html\n",
      "  from .autonotebook import tqdm as notebook_tqdm\n",
      "D:\\Work\\project\\project\\Lib\\site-packages\\huggingface_hub\\file_download.py:142: UserWarning: `huggingface_hub` cache-system uses symlinks by default to efficiently store duplicated files but your machine does not support them in C:\\Users\\soume\\.cache\\huggingface\\hub\\models--sentence-transformers--all-MiniLM-L6-v2. Caching files will still work but in a degraded version that might require more space on your disk. This warning can be disabled by setting the `HF_HUB_DISABLE_SYMLINKS_WARNING` environment variable. For more details, see https://huggingface.co/docs/huggingface_hub/how-to-cache#limitations.\n",
      "To support symlinks on Windows, you either need to activate Developer Mode or to run Python as an administrator. In order to activate developer mode, see this article: https://docs.microsoft.com/en-us/windows/apps/get-started/enable-your-device-for-development\n",
      "  warnings.warn(message)\n"
     ]
    }
   ],
   "source": [
    "from sentence_transformers import SentenceTransformer\n",
    "import pandas as pd\n",
    "import numpy as np\n",
    "\n",
    "# Load processed dataset\n",
    "df = pd.read_csv(\"processed_symptom_disease.csv\")\n",
    "\n",
    "# Load a pre-trained sentence transformer model\n",
    "model = SentenceTransformer(\"all-MiniLM-L6-v2\")  # Fast and accurate\n",
    "\n",
    "# Encode symptom descriptions into dense vectors\n",
    "df[\"embedding\"] = df[\"symptoms\"].apply(lambda x: model.encode(x))\n",
    "\n",
    "# Save embeddings (optional, to avoid re-encoding every time)\n",
    "np.save(\"symptom_embeddings.npy\", np.vstack(df[\"embedding\"].values))\n",
    "df.to_csv(\"processed_with_embeddings.csv\", index=False)\n"
   ]
  },
  {
   "cell_type": "code",
   "execution_count": 2,
   "id": "a05b4b73-9bf7-401e-a50a-d0118cfecc37",
   "metadata": {},
   "outputs": [],
   "source": [
    "import faiss\n",
    "import numpy as np\n",
    "\n",
    "# Load symptom embeddings\n",
    "embeddings = np.load(\"symptom_embeddings.npy\")\n",
    "\n",
    "# Create a FAISS index (L2 distance)\n",
    "index = faiss.IndexFlatL2(embeddings.shape[1])\n",
    "index.add(embeddings)\n",
    "\n",
    "# Save FAISS index\n",
    "faiss.write_index(index, \"symptom_faiss.index\")"
   ]
  },
  {
   "cell_type": "code",
   "execution_count": 1,
   "id": "dacbdeb8-a0cb-4c92-9104-c02ed7aeaee0",
   "metadata": {},
   "outputs": [
    {
     "name": "stderr",
     "output_type": "stream",
     "text": [
      "D:\\Work\\project\\project\\Lib\\site-packages\\tqdm\\auto.py:21: TqdmWarning: IProgress not found. Please update jupyter and ipywidgets. See https://ipywidgets.readthedocs.io/en/stable/user_install.html\n",
      "  from .autonotebook import tqdm as notebook_tqdm\n"
     ]
    },
    {
     "name": "stdout",
     "output_type": "stream",
     "text": [
      "The variable is a pandas DataFrame.\n"
     ]
    }
   ],
   "source": [
    "from sentence_transformers import SentenceTransformer\n",
    "import pandas as pd\n",
    "import faiss\n",
    "\n",
    "model = SentenceTransformer(\"all-MiniLM-L6-v2\")  # Fast and accurate\n",
    "\n",
    "df = pd.read_csv(\"processed_symptom_disease.csv\")\n",
    "\n",
    "def retrieve_diseases(user_input, model, df, index, top_k=10):\n",
    "    # Encode user symptoms\n",
    "    user_embedding = model.encode(user_input).reshape(1, -1)\n",
    "\n",
    "    # Search FAISS index\n",
    "    distances, indices = index.search(user_embedding, top_k)\n",
    "\n",
    "    # Get top-matching diseases\n",
    "    results = df.iloc[indices[0]][[\"diseases\", \"symptoms\"]]\n",
    "    return results\n",
    "\n",
    "# Load FAISS index\n",
    "index = faiss.read_index(\"symptom_faiss.index\")\n",
    "\n",
    "# Example: User input symptoms\n",
    "user_symptoms = \"tiredness, fever, chills, sore throat\"\n",
    "matching_diseases = retrieve_diseases(user_symptoms, model, df, index)\n",
    "\n",
    "print(matching_diseases)\n"
   ]
  },
  {
   "cell_type": "code",
   "execution_count": 1,
   "id": "31bd56de-8899-436c-8e86-3566ecfda125",
   "metadata": {},
   "outputs": [
    {
     "name": "stderr",
     "output_type": "stream",
     "text": [
      "D:\\Work\\project\\project\\Lib\\site-packages\\tqdm\\auto.py:21: TqdmWarning: IProgress not found. Please update jupyter and ipywidgets. See https://ipywidgets.readthedocs.io/en/stable/user_install.html\n",
      "  from .autonotebook import tqdm as notebook_tqdm\n"
     ]
    }
   ],
   "source": [
    "from langgraph.graph import START, StateGraph, END\n",
    "from pydantic import BaseModel, Field\n",
    "from typing import Optional, List, Dict, Sequence, Any, Literal\n",
    "from typing_extensions import TypedDict\n",
    "from langchain_openai import ChatOpenAI\n",
    "from langgraph.types import Command\n",
    "from enum import Enum\n",
    "\n",
    "from sentence_transformers import SentenceTransformer\n",
    "import pandas as pd\n",
    "import faiss\n",
    "from langchain_core.prompts import ChatPromptTemplate\n",
    "\n",
    "import sys\n",
    "import os, getpass\n",
    "from dotenv import load_dotenv\n",
    "load_dotenv()\n",
    "\n",
    "def _set_env(var: str):\n",
    "    if not os.environ.get(var):\n",
    "        os.environ[var] = getpass.getpass(f\"{var}: \")\n",
    "\n",
    "os.environ[\"LANGCHAIN_TRACING_V2\"] = \"true\"\n",
    "os.environ[\"LANGCHAIN_PROJECT\"] = \"langchain-academy\"\n",
    "_set_env(\"OPENAI_API_KEY\")\n",
    "_set_env(\"LANGCHAIN_API_KEY\")\n",
    "\n",
    "model = SentenceTransformer(\"all-MiniLM-L6-v2\")  # Fast and accurate\n",
    "\n",
    "df = pd.read_csv(\"processed_symptom_disease.csv\")\n",
    "\n",
    "index = faiss.read_index(\"symptom_faiss.index\")\n",
    "\n",
    "def retrieve_diseases(user_input, model, df, index, top_k=10):\n",
    "    # Encode user symptoms\n",
    "    user_embedding = model.encode(user_input).reshape(1, -1)\n",
    "\n",
    "    # Search FAISS index\n",
    "    distances, indices = index.search(user_embedding, top_k)\n",
    "\n",
    "    # Get top-matching diseases\n",
    "    results = df.iloc[indices[0]][[\"diseases\", \"symptoms\"]]\n",
    "    return results\n",
    "\n",
    "class Input(TypedDict):\n",
    "    user_query: str\n",
    "    symptoms: Optional[List[str]] = None\n",
    "    final_answer: Optional[str] = None\n",
    "    diseases: Optional[str] = None\n",
    "\n",
    "class Source(str, Enum):\n",
    "    Medical_Query = \"Medical Query\"\n",
    "    Generic = \"Generic\"\n",
    "\n",
    "base_model = ChatOpenAI(model=\"gpt-4o-mini\", temperature=0)\n",
    "\n",
    "def supervisor(input : Input)-> Command[Literal[\"Analysis\", \"Help Desk\"]]:\n",
    "    class LLMOutput(TypedDict):\n",
    "        category: Source\n",
    "    system_msg = \"\"\"You are a supervisor routing user query. You have to analyze the provided user query and decide where to route the user query by deciding the category of the query, keeping the following instructions in mind:\n",
    "                 1. If the user query is requesting for medical assistance or diagnosis related to their symptoms, then assign the category as Medical Query.\n",
    "                 2. If the user query is of any type other than specified above, then assign the category as Generic.\n",
    "                 Return as output the category of the user query, which is one of [Medical Query, Generic]\n",
    "                 \"\"\"\n",
    "    messages = [\n",
    "        (\"system\", system_msg),\n",
    "        (\"user\", input[\"user_query\"])\n",
    "    ]\n",
    "    response = base_model.with_structured_output(LLMOutput).invoke(messages)\n",
    "    print(response)\n",
    "    if response[\"category\"] == \"Medical Query\":\n",
    "        return Command(goto=\"Analysis\", update={\n",
    "        \"user_query\":  input[\"user_query\"]\n",
    "       })\n",
    "    return Command(goto=\"Help Desk\", update={\n",
    "        \"user_query\":  input[\"user_query\"]\n",
    "    })\n",
    "\n",
    "def help_desk(input : Input):\n",
    "    system_msg = \"\"\"You are an expert medical examiner. You have been provided a generic user query. You have to return a short and brief response explaining to the user that their query can't be answered, and that they should inquire about medical diagnosis instead\"\"\"\n",
    "    messages = [\n",
    "        (\"system\", system_msg),\n",
    "        (\"user\", input[\"user_query\"])\n",
    "    ]\n",
    "    response  = base_model.invoke(ChatPromptTemplate.from_messages(messages).invoke({}))\n",
    "    return {\n",
    "        \"final_answer\": response.content\n",
    "    }\n",
    "\n",
    "def analysis(input : Input):\n",
    "    class LLMOutput(TypedDict):\n",
    "        symptoms = List[str]\n",
    "    system_msg = \"\"\"You are an expert medical examiner.\n",
    "    You have been provided a user query for medical diagnosis. You have to analyze the query and \n",
    "    determine the primary symptoms being experienced by the user.\n",
    "    Return a list of symptoms being experienced by the user.\"\"\"\n",
    "    messages = [\n",
    "        (\"system\", system_msg),\n",
    "        (\"user\", input[\"user_query\"])\n",
    "    ]\n",
    "    response = base_model.with_structured_output(LLMOutput).invoke(messages)\n",
    "    print(response['symptoms'])\n",
    "    return{\n",
    "        \"symptoms\": response['symptoms']\n",
    "    }\n",
    "\n",
    "def diagnosis(input : Input):\n",
    "    symptoms = \",\".join(input[\"symptoms\"])\n",
    "    diseases = retrieve_diseases(symptoms, model, df, index)\n",
    "    system_msg = \"\"\"You are an expert medical examiner.\n",
    "    You have been provided a user query for medical diagnosis, as well as a list of diseases which might be likely affecting the patient according to their displayed symptoms.\n",
    "    User query: {query}\n",
    "    Diseases: {diseases}\n",
    "    Aanalyze the user query and diseases and provide a detailed possible diagnosis to the user\"\"\"\n",
    "    messages = [\n",
    "        (\"system\", system_msg)\n",
    "    ]\n",
    "    response  = base_model.invoke(ChatPromptTemplate.from_messages(messages).invoke({\n",
    "                \"query\": input[\"user_query\"],\n",
    "                \"diseases\": diseases\n",
    "    }))\n",
    "    return{\n",
    "        \"diseases\": diseases,\n",
    "        \"final_answer\": response.content\n",
    "    }\n",
    "\n",
    "builder = StateGraph(Input)\n",
    "\n",
    "builder.add_node(\"Analysis\", analysis)\n",
    "builder.add_node(\"Diagnosis\", diagnosis)\n",
    "builder.add_node(\"Help Desk\", help_desk)\n",
    "builder.add_node(\"Supervisor\", supervisor)\n",
    "\n",
    "builder.add_edge(START, \"Supervisor\")\n",
    "builder.add_edge(\"Help Desk\", END)\n",
    "builder.add_edge(\"Analysis\", \"Diagnosis\")\n",
    "builder.add_edge(\"Diagnosis\", END)\n",
    "\n",
    "MedBot = builder.compile()"
   ]
  },
  {
   "cell_type": "code",
   "execution_count": 4,
   "id": "c3d58330-2b30-4167-ae8f-8d7f8cc1e000",
   "metadata": {},
   "outputs": [
    {
     "name": "stdout",
     "output_type": "stream",
     "text": [
      "{'category': 'Medical Query'}\n",
      "['tiredness', 'fever', 'chills', 'sore throat']\n"
     ]
    }
   ],
   "source": [
    "pu = MedBot.invoke(\n",
    "    {\n",
    "        \"user_query\": \"I've been feeling really tired lately, and I have a fever with chills. Also, my throat is sore\"\n",
    "    }\n",
    ")"
   ]
  },
  {
   "cell_type": "code",
   "execution_count": 5,
   "id": "e49d2006-af3b-491c-89bb-a89b3ae0007e",
   "metadata": {},
   "outputs": [
    {
     "name": "stdout",
     "output_type": "stream",
     "text": [
      "{'user_query': \"I've been feeling really tired lately, and I have a fever with chills. Also, my throat is sore\", 'symptoms': ['tiredness', 'fever', 'chills', 'sore throat'], 'final_answer': \"Based on your symptoms of fatigue, fever with chills, and a sore throat, there are several potential diagnoses to consider. Let's analyze the symptoms in relation to the diseases listed:\\n\\n1. **Pharyngitis**: This condition is characterized by a sore throat, fever, and can sometimes include cough and hoarseness. Your sore throat and fever align well with this diagnosis.\\n\\n2. **Strep Throat**: This is a bacterial infection that often presents with a severe sore throat, fever, chills, and general malaise. The presence of chills and a sore throat makes this a strong possibility.\\n\\n3. **Flu (Influenza)**: The flu typically presents with symptoms such as fever, chills, body aches, and sore throat. Your symptoms of fatigue and chills could indicate the flu, especially if you are experiencing body aches.\\n\\n4. **Sepsis**: While sepsis can cause fever and chills, it usually presents with more severe symptoms, including confusion, difficulty breathing, and a significant decrease in appetite. If you are not experiencing these additional severe symptoms, sepsis may be less likely.\\n\\n5. **Aplastic Anemia**: This condition can cause fatigue and fever, but it is less likely to be the cause of your sore throat. It typically presents with more systemic symptoms related to blood cell production.\\n\\n6. **Meningitis**: This condition can cause fever and chills, but it usually presents with severe headache, neck stiffness, and altered mental status. If you are not experiencing these symptoms, meningitis is less likely.\\n\\n7. **Common Cold**: While the common cold can cause a sore throat and fever, it typically does not cause significant fatigue or chills.\\n\\nGiven your symptoms, the most likely diagnoses are **Strep Throat** and **Pharyngitis**, with the **Flu** also being a strong contender. It is important to consult a healthcare professional for a proper examination and possibly a throat swab to confirm if it is strep throat, as this may require antibiotic treatment. Additionally, if your symptoms worsen or you develop new symptoms, seek medical attention promptly.\", 'diseases':                    diseases                                           symptoms\n",
      "416                leukemia  fatigue, fever, mouth pain, muscle stiffness o...\n",
      "552             pharyngitis  cough, fever, hoarse voice, sore throat, wheezing\n",
      "675            strep throat  ache all over, chills, cough, decreased appeti...\n",
      "48          aplastic anemia  fatigue, fever, lack of growth, nausea, slurri...\n",
      "717              tracheitis  cough, fever, hoarse voice, nasal congestion, ...\n",
      "645                  sepsis  chills, cough, decreased appetite, difficulty ...\n",
      "249                     flu  ache all over, chills, coryza, cough, diarrhea...\n",
      "4    abscess of the pharynx  cough, difficulty in swallowing, fever, headac...\n",
      "445              meningitis  ache all over, cough, fever, headache, nausea,...\n",
      "137             common cold  chills, coryza, cough, ear pain, fever, flu-li...}\n"
     ]
    }
   ],
   "source": [
    "print(pu)"
   ]
  }
 ],
 "metadata": {
  "kernelspec": {
   "display_name": "Python 3 (ipykernel)",
   "language": "python",
   "name": "python3"
  },
  "language_info": {
   "codemirror_mode": {
    "name": "ipython",
    "version": 3
   },
   "file_extension": ".py",
   "mimetype": "text/x-python",
   "name": "python",
   "nbconvert_exporter": "python",
   "pygments_lexer": "ipython3",
   "version": "3.12.0"
  }
 },
 "nbformat": 4,
 "nbformat_minor": 5
}
