{
 "cells": [
  {
   "cell_type": "code",
   "execution_count": 8,
   "id": "fb521002-bd57-4b1e-ae56-81019fc628de",
   "metadata": {},
   "outputs": [
    {
     "name": "stdout",
     "output_type": "stream",
     "text": [
      "                    diseases                                                                                                                                                                                                  symptoms\n",
      "0  abdominal aortic aneurysm                                                                                                  arm swelling, back pain, burning abdominal pain, palpitations, sharp abdominal pain, shortness of breath\n",
      "1           abdominal hernia  ache all over, groin mass, irregular belly button, lower abdominal pain, regurgitation, regurgitation.1, sharp abdominal pain, swollen abdomen, symptoms of the scrotum and testes, upper abdominal pain\n",
      "2            abscess of nose                                                                                                         coryza, cough, fever, irritable infant, nasal congestion, sinus congestion, sore throat, vomiting\n",
      "3        abscess of the lung                                                                                                                                cough, depressive or psychotic symptoms, itchy eyelid, shortness of breath\n",
      "4     abscess of the pharynx                                                                                        cough, difficulty in swallowing, fever, headache, nasal congestion, sharp chest pain, sore throat, throat swelling\n"
     ]
    }
   ],
   "source": [
    "import pandas as pd\n",
    "\n",
    "# Load dataset\n",
    "df = pd.read_csv(\"Final_Augmented_dataset_Diseases_and_Symptoms.csv\")\n",
    "\n",
    "# Convert binary symptom columns into a list of symptom names\n",
    "df[\"symptom_text\"] = df.drop(columns=[\"diseases\"]).apply(\n",
    "    lambda x: [col for col in x.index if x[col] == 1], axis=1\n",
    ")\n",
    "\n",
    "# Merge symptoms for each unique disease while ensuring no duplicates\n",
    "df_grouped = df.groupby(\"diseases\")[\"symptom_text\"].apply(\n",
    "    lambda x: list(set(sum(x, [])))  # Flatten list and remove duplicates\n",
    ").reset_index()\n",
    "\n",
    "# Convert list back to comma-separated string\n",
    "df_grouped[\"symptoms\"] = df_grouped[\"symptom_text\"].apply(lambda x: \", \".join(sorted(x)))\n",
    "\n",
    "# Drop intermediate column\n",
    "df_grouped = df_grouped.drop(columns=[\"symptom_text\"])\n",
    "\n",
    "# Save the processed dataset\n",
    "df_grouped.to_csv(\"processed_symptom_disease.csv\", index=False)\n",
    "\n",
    "print(df_grouped.head())  # Preview the new format"
   ]
  },
  {
   "cell_type": "code",
   "execution_count": 2,
   "id": "9e70f6a7-21fa-4619-91d1-cfbeec1bc1fb",
   "metadata": {},
   "outputs": [
    {
     "name": "stdout",
     "output_type": "stream",
     "text": [
      "Conversion complete! Check 'disease_symptoms.csv'.\n"
     ]
    }
   ],
   "source": [
    "import pandas as pd\n",
    "\n",
    "# Load the dataset (replace 'your_dataset.csv' with the actual file name)\n",
    "df = pd.read_csv(\"dataset.csv\", header=None)\n",
    "\n",
    "# Rename the first column to 'disease' and the rest as 'symptoms'\n",
    "df.rename(columns={0: \"disease\"}, inplace=True)\n",
    "\n",
    "# Melt the dataframe to convert symptom columns into rows\n",
    "df = df.melt(id_vars=[\"disease\"], value_name=\"symptom\").drop(columns=[\"variable\"])\n",
    "\n",
    "# Drop NaN values in the symptom column\n",
    "df = df.dropna()\n",
    "\n",
    "# Group by disease and aggregate symptoms as a unique list\n",
    "df_grouped = df.groupby(\"disease\")[\"symptom\"].apply(lambda x: \", \".join(sorted(set(x)))).reset_index()\n",
    "\n",
    "# Save to a new CSV file\n",
    "df_grouped.to_csv(\"disease_symptoms.csv\", index=False)\n",
    "\n",
    "print(\"Conversion complete! Check 'disease_symptoms.csv'.\")\n"
   ]
  },
  {
   "cell_type": "code",
   "execution_count": 4,
   "id": "d94c8f41-58c2-429d-a3e0-57c705882bdc",
   "metadata": {},
   "outputs": [
    {
     "name": "stderr",
     "output_type": "stream",
     "text": [
      "D:\\Work\\project\\project\\Lib\\site-packages\\tqdm\\auto.py:21: TqdmWarning: IProgress not found. Please update jupyter and ipywidgets. See https://ipywidgets.readthedocs.io/en/stable/user_install.html\n",
      "  from .autonotebook import tqdm as notebook_tqdm\n"
     ]
    }
   ],
   "source": [
    "from sentence_transformers import SentenceTransformer\n",
    "import pandas as pd\n",
    "import numpy as np\n",
    "\n",
    "# Load processed dataset\n",
    "df = pd.read_csv(\"merged_dataset.csv\")\n",
    "\n",
    "# Load a pre-trained sentence transformer model\n",
    "model = SentenceTransformer(\"all-MiniLM-L6-v2\")  # Fast and accurate\n",
    "\n",
    "# Encode symptom descriptions into dense vectors\n",
    "df[\"embedding\"] = df[\"symptoms\"].apply(lambda x: model.encode(x))\n",
    "\n",
    "# Save embeddings (optional, to avoid re-encoding every time)\n",
    "np.save(\"symptom_embeddings.npy\", np.vstack(df[\"embedding\"].values))\n",
    "df.to_csv(\"processed_with_embeddings.csv\", index=False)\n"
   ]
  },
  {
   "cell_type": "code",
   "execution_count": 3,
   "id": "2ea2c3ec-926b-4656-ba75-4b486a5a8cc9",
   "metadata": {},
   "outputs": [],
   "source": [
    "def merge_disease_datasets(df1, df2):\n",
    "    # Convert disease names to lowercase for case-insensitive merging\n",
    "    df1['diseases'] = df1['diseases'].str.lower()\n",
    "    df2['diseases'] = df2['diseases'].str.lower()\n",
    "    \n",
    "    # Combine the two datasets\n",
    "    combined = pd.concat([df1, df2], ignore_index=True)\n",
    "    \n",
    "    # Merge symptoms by disease\n",
    "    merged = (\n",
    "        combined.groupby('diseases')['symptoms']\n",
    "        .apply(lambda x: ', '.join(sorted(set(', '.join(x).split(', ')))))\n",
    "        .reset_index()\n",
    "    )\n",
    "    \n",
    "    return merged\n",
    "\n",
    "df1 = pd.read_csv(\"disease_symptoms.csv\")\n",
    "df2 = pd.read_csv(\"processed_symptom_disease.csv\")\n",
    "\n",
    "merged_df = merge_disease_datasets(df1, df2)\n",
    "merged_df.to_csv(\"merged_dataset.csv\", index=False)"
   ]
  },
  {
   "cell_type": "code",
   "execution_count": 5,
   "id": "a05b4b73-9bf7-401e-a50a-d0118cfecc37",
   "metadata": {},
   "outputs": [],
   "source": [
    "import faiss\n",
    "import numpy as np\n",
    "\n",
    "# Load symptom embeddings\n",
    "embeddings = np.load(\"symptom_embeddings.npy\")\n",
    "\n",
    "# Create a FAISS index (L2 distance)\n",
    "index = faiss.IndexFlatL2(embeddings.shape[1])\n",
    "index.add(embeddings)\n",
    "\n",
    "# Save FAISS index\n",
    "faiss.write_index(index, \"symptom_faiss.index\")"
   ]
  },
  {
   "cell_type": "code",
   "execution_count": 6,
   "id": "dacbdeb8-a0cb-4c92-9104-c02ed7aeaee0",
   "metadata": {},
   "outputs": [
    {
     "name": "stdout",
     "output_type": "stream",
     "text": [
      "                     diseases  \\\n",
      "438                  leukemia   \n",
      "577               pharyngitis   \n",
      "700              strep throat   \n",
      "51            aplastic anemia   \n",
      "742                tracheitis   \n",
      "670                    sepsis   \n",
      "260                       flu   \n",
      "5      abscess of the pharynx   \n",
      "467                meningitis   \n",
      "794  white blood cell disease   \n",
      "\n",
      "                                              symptoms  \n",
      "438  fatigue, fever, mouth pain, muscle stiffness o...  \n",
      "577  cough, fever, hoarse voice, sore throat, wheezing  \n",
      "700  ache all over, chills, cough, decreased appeti...  \n",
      "51   fatigue, fever, lack of growth, nausea, slurri...  \n",
      "742  cough, fever, hoarse voice, nasal congestion, ...  \n",
      "670  chills, cough, decreased appetite, difficulty ...  \n",
      "260  ache all over, chills, coryza, cough, diarrhea...  \n",
      "5    cough, difficulty in swallowing, fever, headac...  \n",
      "467  ache all over, cough, fever, headache, nausea,...  \n",
      "794  chills, cough, diarrhea, fatigue, fever, heart...  \n"
     ]
    }
   ],
   "source": [
    "from sentence_transformers import SentenceTransformer\n",
    "import pandas as pd\n",
    "import faiss\n",
    "\n",
    "model = SentenceTransformer(\"all-MiniLM-L6-v2\")  # Fast and accurate\n",
    "\n",
    "df = pd.read_csv(\"merged_dataset.csv\")\n",
    "\n",
    "def retrieve_diseases(user_input, model, df, index, top_k=10):\n",
    "    # Encode user symptoms\n",
    "    user_embedding = model.encode(user_input).reshape(1, -1)\n",
    "\n",
    "    # Search FAISS index\n",
    "    distances, indices = index.search(user_embedding, top_k)\n",
    "\n",
    "    # Get top-matching diseases\n",
    "    results = df.iloc[indices[0]][[\"diseases\", \"symptoms\"]]\n",
    "    return results\n",
    "\n",
    "# Load FAISS index\n",
    "index = faiss.read_index(\"symptom_faiss.index\")\n",
    "\n",
    "# Example: User input symptoms\n",
    "user_symptoms = \"tiredness, fever, chills, sore throat\"\n",
    "matching_diseases = retrieve_diseases(user_symptoms, model, df, index)\n",
    "\n",
    "print(matching_diseases)\n"
   ]
  },
  {
   "cell_type": "code",
   "execution_count": 1,
   "id": "31bd56de-8899-436c-8e86-3566ecfda125",
   "metadata": {},
   "outputs": [
    {
     "name": "stderr",
     "output_type": "stream",
     "text": [
      "D:\\Work\\project\\project\\Lib\\site-packages\\tqdm\\auto.py:21: TqdmWarning: IProgress not found. Please update jupyter and ipywidgets. See https://ipywidgets.readthedocs.io/en/stable/user_install.html\n",
      "  from .autonotebook import tqdm as notebook_tqdm\n"
     ]
    }
   ],
   "source": [
    "from langgraph.graph import START, StateGraph, END\n",
    "from pydantic import BaseModel, Field\n",
    "from typing import Optional, List, Dict, Sequence, Any, Literal\n",
    "from typing_extensions import TypedDict\n",
    "from langchain_openai import ChatOpenAI\n",
    "from langgraph.types import Command\n",
    "from enum import Enum\n",
    "\n",
    "from sentence_transformers import SentenceTransformer\n",
    "import pandas as pd\n",
    "import faiss\n",
    "from langchain_core.prompts import ChatPromptTemplate\n",
    "\n",
    "import sys\n",
    "import os, getpass\n",
    "from dotenv import load_dotenv\n",
    "load_dotenv()\n",
    "\n",
    "def _set_env(var: str):\n",
    "    if not os.environ.get(var):\n",
    "        os.environ[var] = getpass.getpass(f\"{var}: \")\n",
    "\n",
    "os.environ[\"LANGCHAIN_TRACING_V2\"] = \"true\"\n",
    "os.environ[\"LANGCHAIN_PROJECT\"] = \"langchain-academy\"\n",
    "_set_env(\"OPENAI_API_KEY\")\n",
    "_set_env(\"LANGCHAIN_API_KEY\")\n",
    "\n",
    "model = SentenceTransformer(\"all-MiniLM-L6-v2\")  # Fast and accurate\n",
    "\n",
    "df = pd.read_csv(\"processed_symptom_disease.csv\")\n",
    "\n",
    "index = faiss.read_index(\"symptom_faiss.index\")\n",
    "\n",
    "def retrieve_diseases(user_input, model, df, index, top_k=10):\n",
    "    # Encode user symptoms\n",
    "    user_embedding = model.encode(user_input).reshape(1, -1)\n",
    "\n",
    "    # Search FAISS index\n",
    "    distances, indices = index.search(user_embedding, top_k)\n",
    "\n",
    "    # Get top-matching diseases\n",
    "    results = df.iloc[indices[0]][[\"diseases\", \"symptoms\"]]\n",
    "    return results\n",
    "\n",
    "class Input(TypedDict):\n",
    "    user_query: str\n",
    "    symptoms: Optional[List[str]] = None\n",
    "    final_answer: Optional[str] = None\n",
    "    diseases: Optional[str] = None\n",
    "\n",
    "class Source(str, Enum):\n",
    "    Medical_Query = \"Medical Query\"\n",
    "    Generic = \"Generic\"\n",
    "\n",
    "base_model = ChatOpenAI(model=\"gpt-4o-mini\", temperature=0)\n",
    "\n",
    "def supervisor(input : Input)-> Command[Literal[\"Analysis\", \"Help Desk\"]]:\n",
    "    class LLMOutput(TypedDict):\n",
    "        category: Source\n",
    "    system_msg = \"\"\"You are a supervisor routing user query. You have to analyze the provided user query and decide where to route the user query by deciding the category of the query, keeping the following instructions in mind:\n",
    "                 1. If the user query is requesting for medical assistance or diagnosis related to their symptoms, then assign the category as Medical Query.\n",
    "                 2. If the user query is of any type other than specified above, then assign the category as Generic.\n",
    "                 Return as output the category of the user query, which is one of [Medical Query, Generic]\n",
    "                 \"\"\"\n",
    "    messages = [\n",
    "        (\"system\", system_msg),\n",
    "        (\"user\", input[\"user_query\"])\n",
    "    ]\n",
    "    response = base_model.with_structured_output(LLMOutput).invoke(messages)\n",
    "    print(response)\n",
    "    if response[\"category\"] == \"Medical Query\":\n",
    "        return Command(goto=\"Analysis\", update={\n",
    "        \"user_query\":  input[\"user_query\"]\n",
    "       })\n",
    "    return Command(goto=\"Help Desk\", update={\n",
    "        \"user_query\":  input[\"user_query\"]\n",
    "    })\n",
    "\n",
    "def help_desk(input : Input):\n",
    "    system_msg = \"\"\"You are an expert medical examiner. You have been provided a generic user query. You have to return a short and brief response explaining to the user that their query can't be answered, and that they should inquire about medical diagnosis instead\"\"\"\n",
    "    messages = [\n",
    "        (\"system\", system_msg),\n",
    "        (\"user\", input[\"user_query\"])\n",
    "    ]\n",
    "    response  = base_model.invoke(ChatPromptTemplate.from_messages(messages).invoke({}))\n",
    "    return {\n",
    "        \"final_answer\": response.content\n",
    "    }\n",
    "\n",
    "def analysis(input : Input):\n",
    "    class LLMOutput(TypedDict):\n",
    "        symptoms = List[str]\n",
    "    system_msg = \"\"\"You are an expert medical examiner.\n",
    "    You have been provided a user query for medical diagnosis. You have to analyze the query and \n",
    "    determine the primary symptoms being experienced by the user.\n",
    "    Return a list of symptoms being experienced by the user.\"\"\"\n",
    "    messages = [\n",
    "        (\"system\", system_msg),\n",
    "        (\"user\", input[\"user_query\"])\n",
    "    ]\n",
    "    response = base_model.with_structured_output(LLMOutput).invoke(messages)\n",
    "    print(response['symptoms'])\n",
    "    return{\n",
    "        \"symptoms\": response['symptoms']\n",
    "    }\n",
    "\n",
    "def diagnosis(input : Input):\n",
    "    symptoms = \",\".join(input[\"symptoms\"])\n",
    "    diseases = retrieve_diseases(symptoms, model, df, index)\n",
    "    system_msg = \"\"\"You are an expert medical examiner.\n",
    "    You have been provided a user query for medical diagnosis, as well as a list of diseases which might be likely affecting the patient according to their displayed symptoms.\n",
    "    User query: {query}\n",
    "    Diseases: {diseases}\n",
    "    Aanalyze the user query and diseases and provide a detailed possible diagnosis to the user\"\"\"\n",
    "    messages = [\n",
    "        (\"system\", system_msg)\n",
    "    ]\n",
    "    response  = base_model.invoke(ChatPromptTemplate.from_messages(messages).invoke({\n",
    "                \"query\": input[\"user_query\"],\n",
    "                \"diseases\": diseases\n",
    "    }))\n",
    "    return{\n",
    "        \"diseases\": diseases,\n",
    "        \"final_answer\": response.content\n",
    "    }\n",
    "\n",
    "builder = StateGraph(Input)\n",
    "\n",
    "builder.add_node(\"Analysis\", analysis)\n",
    "builder.add_node(\"Diagnosis\", diagnosis)\n",
    "builder.add_node(\"Help Desk\", help_desk)\n",
    "builder.add_node(\"Supervisor\", supervisor)\n",
    "\n",
    "builder.add_edge(START, \"Supervisor\")\n",
    "builder.add_edge(\"Help Desk\", END)\n",
    "builder.add_edge(\"Analysis\", \"Diagnosis\")\n",
    "builder.add_edge(\"Diagnosis\", END)\n",
    "\n",
    "MedBot = builder.compile()"
   ]
  },
  {
   "cell_type": "code",
   "execution_count": 3,
   "id": "c3d58330-2b30-4167-ae8f-8d7f8cc1e000",
   "metadata": {},
   "outputs": [
    {
     "name": "stdout",
     "output_type": "stream",
     "text": [
      "{'category': 'Medical Query'}\n",
      "['tiredness', 'fever', 'chills', 'sore throat']\n"
     ]
    }
   ],
   "source": [
    "pu = MedBot.invoke(\n",
    "    {\n",
    "        \"user_query\": \"Feeling really tired lately, and I have a fever with chills. Also, my throat is sore.\"\n",
    "    }\n",
    ")"
   ]
  },
  {
   "cell_type": "code",
   "execution_count": 7,
   "id": "e49d2006-af3b-491c-89bb-a89b3ae0007e",
   "metadata": {},
   "outputs": [
    {
     "name": "stdout",
     "output_type": "stream",
     "text": [
      "Based on the symptoms you've described—feeling really tired, having a fever with chills, and a sore throat—there are several potential diagnoses to consider. Let's analyze the symptoms in relation to the diseases listed:\n",
      "\n",
      "1. **Leukemia**: This condition can cause fatigue and fever, but it typically presents with additional symptoms such as unexplained bruising, frequent infections, or bleeding. While your symptoms could align with leukemia, they are not specific enough to suggest this diagnosis without further investigation.\n",
      "\n",
      "2. **Pharyngitis**: This is an inflammation of the throat that can cause a sore throat, fever, and sometimes cough. It is a common cause of sore throat and could explain your symptoms.\n",
      "\n",
      "3. **Strep Throat**: This bacterial infection is characterized by a severe sore throat, fever, chills, and often body aches. It is a strong contender given your sore throat and fever.\n",
      "\n",
      "4. **Aplastic Anemia**: This condition can cause fatigue and fever, but it usually presents with more severe symptoms like a lack of growth or slurred speech, which you have not mentioned.\n",
      "\n",
      "5. **Tracheitis**: This is an inflammation of the trachea that can cause cough and fever, but it typically also presents with a hoarse voice and nasal congestion, which you have not reported.\n",
      "\n",
      "6. **Sepsis**: This is a severe and life-threatening response to infection that can cause chills, fever, and decreased appetite. However, it usually presents with more severe symptoms and would likely require immediate medical attention.\n",
      "\n",
      "7. **Flu**: Influenza can cause fatigue, fever, chills, and body aches, which aligns well with your symptoms. It is a common viral infection that could explain your current state.\n",
      "\n",
      "8. **Abscess of the Pharynx**: This condition can cause a sore throat and fever, but it typically presents with difficulty swallowing and severe pain, which you have not indicated.\n",
      "\n",
      "9. **Meningitis**: This serious condition can cause fever, headache, and chills, but it usually presents with neck stiffness and other neurological symptoms, which you have not mentioned.\n",
      "\n",
      "10. **Common Cold**: This viral infection can cause chills, cough, and fever, but it typically presents with milder symptoms compared to what you are experiencing.\n",
      "\n",
      "### Conclusion:\n",
      "Given your symptoms of fatigue, fever with chills, and a sore throat, the most likely diagnoses are **Strep Throat** and **Pharyngitis**. The flu is also a possibility, but the presence of a severe sore throat makes strep throat a strong contender. \n",
      "\n",
      "### Recommendation:\n",
      "It is important to see a healthcare provider for a proper examination and possibly a throat swab to test for strep throat. Early diagnosis and treatment can help alleviate your symptoms and prevent complications. If you experience worsening symptoms or difficulty breathing, seek medical attention immediately.\n"
     ]
    }
   ],
   "source": [
    "print(pu[\"final_answer\"])"
   ]
  },
  {
   "cell_type": "code",
   "execution_count": 5,
   "id": "6ac77215-611b-4146-a737-e0d728a40014",
   "metadata": {},
   "outputs": [
    {
     "name": "stdout",
     "output_type": "stream",
     "text": [
      "None\n"
     ]
    }
   ],
   "source": [
    "diseases = pu.get(\"diseases\", None)\n"
   ]
  }
 ],
 "metadata": {
  "kernelspec": {
   "display_name": "Python 3 (ipykernel)",
   "language": "python",
   "name": "python3"
  },
  "language_info": {
   "codemirror_mode": {
    "name": "ipython",
    "version": 3
   },
   "file_extension": ".py",
   "mimetype": "text/x-python",
   "name": "python",
   "nbconvert_exporter": "python",
   "pygments_lexer": "ipython3",
   "version": "3.12.0"
  }
 },
 "nbformat": 4,
 "nbformat_minor": 5
}
